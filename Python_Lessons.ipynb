{
  "nbformat": 4,
  "nbformat_minor": 0,
  "metadata": {
    "colab": {
      "provenance": [],
      "name": "Python_Lessons",
      "authorship_tag": "ABX9TyMErSI/4UNXZg0nSGB8iQAc",
      "include_colab_link": true
    },
    "kernelspec": {
      "name": "python3",
      "display_name": "Python 3"
    },
    "language_info": {
      "name": "python"
    }
  },
  "cells": [
    {
      "cell_type": "markdown",
      "metadata": {
        "id": "view-in-github",
        "colab_type": "text"
      },
      "source": [
        "<a href=\"https://colab.research.google.com/github/sonasejidli/Python_Lessons/blob/main/Python_Lessons.ipynb\" target=\"_parent\"><img src=\"https://colab.research.google.com/assets/colab-badge.svg\" alt=\"Open In Colab\"/></a>"
      ]
    },
    {
      "cell_type": "markdown",
      "source": [
        "# **Print Funksiyası.**"
      ],
      "metadata": {
        "id": "m9z47KAnxzWo"
      }
    },
    {
      "cell_type": "code",
      "execution_count": 1,
      "metadata": {
        "id": "J-QEd5UPxSna",
        "outputId": "87d915e6-2f77-4dc2-bdf5-035e780ac303",
        "colab": {
          "base_uri": "https://localhost:8080/"
        }
      },
      "outputs": [
        {
          "output_type": "stream",
          "name": "stdout",
          "text": [
            "My name is SONA\n"
          ]
        }
      ],
      "source": [
        "print(\"My name is SONA\")"
      ]
    },
    {
      "cell_type": "code",
      "source": [
        "print('Mənim adım Sonadır.')"
      ],
      "metadata": {
        "id": "Je82xV5ryoAY",
        "outputId": "92516b01-475c-42f3-b798-0e6e8dac4998",
        "colab": {
          "base_uri": "https://localhost:8080/"
        }
      },
      "execution_count": 2,
      "outputs": [
        {
          "output_type": "stream",
          "name": "stdout",
          "text": [
            "Mənim adım Sonadır.\n"
          ]
        }
      ]
    },
    {
      "cell_type": "code",
      "source": [
        "print(2025)"
      ],
      "metadata": {
        "id": "ouzRPzJjy3If",
        "outputId": "fa395d5b-6230-4d80-99df-1399b74b6945",
        "colab": {
          "base_uri": "https://localhost:8080/"
        }
      },
      "execution_count": 3,
      "outputs": [
        {
          "output_type": "stream",
          "name": "stdout",
          "text": [
            "2025\n"
          ]
        }
      ]
    },
    {
      "cell_type": "markdown",
      "source": [
        "# Comment"
      ],
      "metadata": {
        "id": "8Xdc0To5zFxO"
      }
    },
    {
      "cell_type": "code",
      "source": [
        "# Python code for \"Salam\" , bu commentdir.\n",
        "print('Salam')"
      ],
      "metadata": {
        "id": "W8HaH0gFzOtw",
        "outputId": "a77c1046-b64e-4497-f29e-d4ed7a7fd6fb",
        "colab": {
          "base_uri": "https://localhost:8080/"
        }
      },
      "execution_count": 5,
      "outputs": [
        {
          "output_type": "stream",
          "name": "stdout",
          "text": [
            "Salam\n"
          ]
        }
      ]
    },
    {
      "cell_type": "code",
      "source": [
        "# This is comment\n"
      ],
      "metadata": {
        "id": "COs7Idj9038g"
      },
      "execution_count": null,
      "outputs": []
    },
    {
      "cell_type": "code",
      "source": [
        "\"\"\"This\n",
        "is\n",
        "just\n",
        "a comm\n",
        "e\n",
        "nt\"\"\""
      ],
      "metadata": {
        "id": "fxCrLdU70_dv"
      },
      "execution_count": null,
      "outputs": []
    },
    {
      "cell_type": "code",
      "source": [
        "'''\n",
        "Bu da çox sətrli commentdir,\n",
        "İstədiyim qədər comment yaza bilərəm.\n",
        "hjgjgyugu çuihhoirüuoi kljoij\n",
        "'''"
      ],
      "metadata": {
        "id": "5raoILl31ZOe"
      },
      "execution_count": null,
      "outputs": []
    },
    {
      "cell_type": "markdown",
      "source": [
        "## ***Python-da kod sahəsi (scope) bu tərz mötərizələr ({ }) ilə təyin edilmir; bunun əvəzinə, sahəni müəyyən etmək üçün girinti (indentation) istifadə olunur. İndi isə davam edərək Python-un əsaslarına başlayaq.***"
      ],
      "metadata": {
        "id": "ru6KYDor2rtH"
      }
    },
    {
      "cell_type": "markdown",
      "source": [
        "\n",
        "\n",
        "> ***Dəyişənlər və Məlumat Strukturlar.***\n",
        "Digər proqramlaşdırma dillərində, məsələn, C, C++ və Java-da dəyişənlərin tipini bəyan etməlisiniz. Ancaq Python-da bunu etməyə ehtiyac yoxdur. Sadəcə dəyişənin adını yazın və ona bir dəyər təyin edildikdə, Python avtomatik olaraq həmin dəyərin int, float, char və ya hətta String olduğunu anlayacaq.\n",
        "\n",
        "**Variables and Data Structures**\n",
        "In other programming languages like C, C++, and Java, you will need to declare the type of variables but in Python you don’t need to do that. Just type in the variable and when values will be given to it, then it will automatically know whether the value given would be an int, float, or char or even a String.\n",
        "\n"
      ],
      "metadata": {
        "id": "_Onim2gA3L43"
      }
    },
    {
      "cell_type": "code",
      "source": [
        "# Python-da dəyişənlər\n",
        "# Python program to declare variables\n",
        "Mycar = 5\n",
        "print(Mycar)\n",
        "Myhome = 2\n",
        "print(Myhome)\n",
        "Mynumber = 'alma'\n",
        "print(Mynumber)"
      ],
      "metadata": {
        "id": "L76pRDP833fn",
        "outputId": "f0e5d257-70c9-43f8-b28b-bcdf9b4dcc91",
        "colab": {
          "base_uri": "https://localhost:8080/"
        }
      },
      "execution_count": 7,
      "outputs": [
        {
          "output_type": "stream",
          "name": "stdout",
          "text": [
            "5\n",
            "2\n",
            "alma\n"
          ]
        }
      ]
    },
    {
      "cell_type": "code",
      "source": [
        "# Əgər print edən zaman Dırnaqdan istifadə etsəm onda bu cür olacaq\n",
        "Phone= 20\n",
        "print('Phone')"
      ],
      "metadata": {
        "id": "Sa7Op7XF5Ysv",
        "outputId": "572ade05-cf47-4642-d726-fbc533b88a09",
        "colab": {
          "base_uri": "https://localhost:8080/"
        }
      },
      "execution_count": 8,
      "outputs": [
        {
          "output_type": "stream",
          "name": "stdout",
          "text": [
            "Phone\n"
          ]
        }
      ]
    },
    {
      "cell_type": "markdown",
      "source": [
        "1.Python-da 4 əsas daxili Məlumat Strukturu (Data Structure) mövcuddur: List , Dictionary , Tuple  və Set .\n",
        "\n",
        "List Python-da ən əsas məlumat strukturudur. List dəyişdirilə bilən (mutable) bir məlumat strukturudur, yəni siyahı yaradıldıqdan sonra ona elementlər əlavə etmək mümkündür. Bu, yerli bazarda alış-veriş siyahısı hazırlamağa bənzəyir; əvvəlcə bir neçə əşyanı siyahıya yazır və sonra lazım olduqda daha çox əşya əlavə edə bilərsiniz. Siyahıya məlumat əlavə etmək üçün append() funksiyası istifadə olunur.\n",
        "\n",
        "2.Python have 4 types of built in Data Structures namely List, Dictionary, Tuple and Set.\n",
        "\n",
        "List is the most basic Data Structure in python. List is a mutable data structure i.e items can be added to list later after the list creation. It’s like you are going to shop at the local market and made a list of some items and later on you can add more and more items to the list. append() function is used to add data to the list."
      ],
      "metadata": {
        "id": "bAvlLbHx8gh5"
      }
    },
    {
      "cell_type": "code",
      "source": [
        "# Gəlin birlikdə Pythonda boş List yaradaq\n",
        "# Let's create an empty list together\n",
        "number = []\n",
        "# appending data in list\n",
        "number.append(2024)\n",
        "number.append(2025)\n",
        "number.append('Tarix')\n",
        "\n",
        "print(number)"
      ],
      "metadata": {
        "id": "3sWHlD7T50yW",
        "outputId": "128d2b9d-3a34-442c-e416-c9ac1e7f9cb7",
        "colab": {
          "base_uri": "https://localhost:8080/"
        }
      },
      "execution_count": 9,
      "outputs": [
        {
          "output_type": "stream",
          "name": "stdout",
          "text": [
            "[2024, 2025, 'Tarix']\n"
          ]
        }
      ]
    },
    {
      "cell_type": "markdown",
      "source": [
        "**Input and Output**\n",
        "\n",
        "\n",
        "* Bu bölmədə, istifadəçidən məlumat almanı, həmin məlumatı manipulyasiya etməyi və ya sadəcə ekrana çıxarmağı öyrənəcəyik. İstifadəçidən məlumat almaq üçün **input()** funksiyası istifadə olunur.\n",
        "\n",
        "* In this section, we will learn how to take input from the user and hence manipulate it or simply display it. **input()** function is used to take input from the user.\n",
        "\n"
      ],
      "metadata": {
        "id": "Ls9Qn4UG-4q-"
      }
    },
    {
      "cell_type": "code",
      "source": [
        "# gettin input from user\n",
        "name = input('Enter your name:')\n",
        "# user entered the name\n",
        "print(\"Salam\", name)\n"
      ],
      "metadata": {
        "id": "z5vd5Hui-jeV",
        "outputId": "bacfb884-e992-4352-b6f1-e41688113f1e",
        "colab": {
          "base_uri": "https://localhost:8080/"
        }
      },
      "execution_count": 10,
      "outputs": [
        {
          "output_type": "stream",
          "name": "stdout",
          "text": [
            "Enter your name:Sona\n",
            "Salam Sona\n"
          ]
        }
      ]
    },
    {
      "cell_type": "code",
      "source": [
        "#İstifadəçidən tam ədəd qəbul etmək\n",
        "#input() funksiyasının geri dönüş tipi stringdir,\n",
        "#bu səbəbdən daxil edilən məlumatı tam ədədə çevirməliyik.\n",
        "\n",
        "\n",
        "# accepting integer from the user\n",
        "# the return type of input() function is string ,\n",
        "# so we need to convert the input to integer\n",
        "\n",
        "\n",
        "num1 = int(input(\"Enter num1: \"))\n",
        "num2 = int(input(\"Enter num2: \"))\n",
        "num3 = num1 * num2\n",
        "\n",
        "print(\"Product is: \" , num3)"
      ],
      "metadata": {
        "id": "FBg_sk8BC22u",
        "outputId": "61bd98e9-a191-442f-9109-fcccd6fa67ef",
        "colab": {
          "base_uri": "https://localhost:8080/"
        }
      },
      "execution_count": 12,
      "outputs": [
        {
          "output_type": "stream",
          "name": "stdout",
          "text": [
            "Enter num1: 5\n",
            "Enter num2: 10\n",
            "Product is:  50\n"
          ]
        }
      ]
    },
    {
      "cell_type": "markdown",
      "source": [
        "**Seçim**\n",
        "\n",
        " *Python-da seçim if, elif və else (elseif) açar sözlərindən istifadə edilərək həyata keçirilir.*\n",
        "\n",
        "**Selection**\n",
        "\n",
        "*Selection in Python is made using the two keywords ‘if’ and ‘elif’ and else (elseif)*"
      ],
      "metadata": {
        "id": "EMkq_oVWEoaJ"
      }
    },
    {
      "cell_type": "code",
      "source": [
        "num1 = 34\n",
        "if (num1> 12):\n",
        "  print('Num1 is good, true')\n",
        "elif (num1> 36):\n",
        "  print('num1 is not good')\n",
        "else:\n",
        "  print('num1 is great')"
      ],
      "metadata": {
        "id": "NjQBeWrMFETF",
        "outputId": "b7c5091b-e93e-4253-926d-8797d75a1f94",
        "colab": {
          "base_uri": "https://localhost:8080/"
        }
      },
      "execution_count": 14,
      "outputs": [
        {
          "output_type": "stream",
          "name": "stdout",
          "text": [
            "Num1 is good, true\n"
          ]
        }
      ]
    },
    {
      "cell_type": "markdown",
      "source": [
        "**Funksiyalar**\n",
        "\n",
        "Funksiyaları, Python skriptində müəyyən bir tapşırığı yerinə yetirmək üçün nəzərdə tutulmuş bir kod dəsti kimi düşünə bilərsiniz. Python-da bir funksiyanı təyin etmək üçün **'def'** açar sözü istifadə olunur.\n",
        "\n",
        "**Functions**\n",
        "\n",
        "You can think of functions like a bunch of code that is intended to do a particular task in the whole Python script. Python used the keyword **‘def’** to define a function.\n",
        "\n"
      ],
      "metadata": {
        "id": "z8JMHD8EGQ93"
      }
    },
    {
      "cell_type": "markdown",
      "source": [
        "Syntax:\n",
        "\n",
        "def function-name(arguments):\n",
        "            #function body"
      ],
      "metadata": {
        "id": "TOp0ERvuGwlf"
      }
    },
    {
      "cell_type": "code",
      "source": [
        "def hello():\n",
        "    print('hello')\n",
        "    print('hello again')\n",
        "hello()\n",
        "\n",
        " # calling function\n",
        "hello()\n"
      ],
      "metadata": {
        "id": "19FtFQiGG7Yn",
        "outputId": "5ac1fe96-3c35-4dc6-d962-04f26d806765",
        "colab": {
          "base_uri": "https://localhost:8080/"
        }
      },
      "execution_count": 15,
      "outputs": [
        {
          "output_type": "stream",
          "name": "stdout",
          "text": [
            "hello\n",
            "hello again\n",
            "hello\n",
            "hello again\n"
          ]
        }
      ]
    },
    {
      "cell_type": "markdown",
      "source": [
        "## **Bildiyimiz kimi, hər hansı bir proqram bir *main* funksiyasından başlayır... Gəlin, digər proqramlaşdırma dillərində olduğu kimi bir main funksiyası yaradaq.**\n",
        "\n",
        "***Now as we know any program starts from a ‘main’ function…lets create a main function like in many other programming languages.***"
      ],
      "metadata": {
        "id": "vJnfsdb_H6H1"
      }
    },
    {
      "cell_type": "code",
      "source": [
        "# function with main\n",
        "def getInteger():\n",
        "    result = int(input(\"Enter integer:\"))\n",
        "    return result\n",
        "\n",
        "def Main():\n",
        "    print('Started')\n",
        "\n",
        "    #calling the getInteger function and\n",
        "    #storing its returned value in the output variable\n",
        "\n",
        "    #`getInteger` funksiyasını çağırırıq və\n",
        "    #onun geri qaytardığı dəyəri `output` dəyişənində saxlayırıq\n",
        "\n",
        "    output = getInteger()\n",
        "    print(output)\n",
        "\n",
        "\n",
        "    #İndi Python-a\n",
        "    #Main funksiyasının mövcud olduğunu bildirməliyik\n",
        "\n",
        "\n",
        "    # now we are required to tell Python\n",
        "    # for 'Main' function existence\n",
        "\n",
        "if __name__==\"__main__\":\n",
        "        Main()\n",
        "\n"
      ],
      "metadata": {
        "id": "OBlojIo5IGJA",
        "outputId": "a5c80788-dc2a-4083-d49b-95807eb71168",
        "colab": {
          "base_uri": "https://localhost:8080/"
        }
      },
      "execution_count": 18,
      "outputs": [
        {
          "output_type": "stream",
          "name": "stdout",
          "text": [
            "Started\n",
            "Enter integer:15\n",
            "15\n"
          ]
        }
      ]
    },
    {
      "cell_type": "markdown",
      "source": [
        "*getInteger:* İstifadəçidən məlumat almaq üçün hazırlanmış xüsusi bir funksiya kimi çıxış edir.\n",
        "\n",
        "*main:* Proqramın icra axışını idarə edir və digər funksiyaları çağırır. Bu da kodu daha yaxşı təşkil etməyə və idarə etməyə imkan yaradır."
      ],
      "metadata": {
        "id": "UAfyeWbbMPjI"
      }
    },
    {
      "cell_type": "markdown",
      "source": [
        "\n",
        "**Təkrarlama (Dövr)**\n",
        "\n",
        "Adından da göründüyü kimi, təkrarlama eyni əməliyyatı dəfələrlə yerinə yetirmək üçün istifadə olunur. Burada ən populyar olan for dövründən istifadə edəcəyik.\n",
        "\n",
        "**Iteration (Looping)**\n",
        "\n",
        "As the name suggests it calls repeating things again and again. We will use the most popular ‘for’ loop here."
      ],
      "metadata": {
        "id": "9OJ3eTHmMm1_"
      }
    },
    {
      "cell_type": "code",
      "source": [
        "for step in range(10):\n",
        "    print(step)"
      ],
      "metadata": {
        "id": "f5eLzcuhLc5Q",
        "outputId": "09bb353b-6318-42ac-9837-705af8fa0584",
        "colab": {
          "base_uri": "https://localhost:8080/"
        }
      },
      "execution_count": 19,
      "outputs": [
        {
          "output_type": "stream",
          "name": "stdout",
          "text": [
            "0\n",
            "1\n",
            "2\n",
            "3\n",
            "4\n",
            "5\n",
            "6\n",
            "7\n",
            "8\n",
            "9\n"
          ]
        }
      ]
    },
    {
      "cell_type": "markdown",
      "source": [
        "**Modullar**\n",
        "\n",
        "Python çox zəngin bir modul kitabxanasına malikdir və bu kitabxana bir çox tapşırıqları yerinə yetirmək üçün müxtəlif funksiyalar təklif edir.  \n",
        "Python kodunuza müəyyən bir modulu daxil etmək üçün import açar sözündən istifadə olunur."
      ],
      "metadata": {
        "id": "gAQjFeNrNh15"
      }
    },
    {
      "cell_type": "code",
      "source": [
        "# math module\n",
        "import math\n",
        "def Main():\n",
        "    num = - 252\n",
        "\n",
        "    # fabs is used to get the absolute\n",
        "    # value of a decimal\n",
        "\n",
        "    #fabs ondalık bir ədədin\n",
        "    #mütləq dəyərini əldə etmək üçün istifadə olunur\n",
        "\n",
        "    num = math.fabs(num)\n",
        "    print(num)\n",
        "\n",
        "if __name__ == \"__main__\":\n",
        "    Main()"
      ],
      "metadata": {
        "id": "gSo9YKL_Nuk4",
        "outputId": "8b0f82a3-5184-416c-bde4-f4950142a4df",
        "colab": {
          "base_uri": "https://localhost:8080/"
        }
      },
      "execution_count": 21,
      "outputs": [
        {
          "output_type": "stream",
          "name": "stdout",
          "text": [
            "252.0\n"
          ]
        }
      ]
    },
    {
      "cell_type": "code",
      "source": [
        "num1 = int(input(\"Enter Number1:\"))\n",
        "print(f'Num1 is {num1}')"
      ],
      "metadata": {
        "id": "eeHUzqbjPF0M",
        "outputId": "9c571a5e-8472-4975-be3d-57c7e267e2d4",
        "colab": {
          "base_uri": "https://localhost:8080/"
        }
      },
      "execution_count": 23,
      "outputs": [
        {
          "output_type": "stream",
          "name": "stdout",
          "text": [
            "Enter Number1:33\n",
            "Num1 is 33\n"
          ]
        }
      ]
    },
    {
      "cell_type": "code",
      "source": [
        "import keyword\n",
        "\n",
        "keyword.kwlist"
      ],
      "metadata": {
        "id": "IPl0iK8QPgoI",
        "outputId": "d6c50ee5-dd13-4357-ecfb-0ddf8ac0fe8e",
        "colab": {
          "base_uri": "https://localhost:8080/"
        }
      },
      "execution_count": 24,
      "outputs": [
        {
          "output_type": "execute_result",
          "data": {
            "text/plain": [
              "['False',\n",
              " 'None',\n",
              " 'True',\n",
              " 'and',\n",
              " 'as',\n",
              " 'assert',\n",
              " 'async',\n",
              " 'await',\n",
              " 'break',\n",
              " 'class',\n",
              " 'continue',\n",
              " 'def',\n",
              " 'del',\n",
              " 'elif',\n",
              " 'else',\n",
              " 'except',\n",
              " 'finally',\n",
              " 'for',\n",
              " 'from',\n",
              " 'global',\n",
              " 'if',\n",
              " 'import',\n",
              " 'in',\n",
              " 'is',\n",
              " 'lambda',\n",
              " 'nonlocal',\n",
              " 'not',\n",
              " 'or',\n",
              " 'pass',\n",
              " 'raise',\n",
              " 'return',\n",
              " 'try',\n",
              " 'while',\n",
              " 'with',\n",
              " 'yield']"
            ]
          },
          "metadata": {},
          "execution_count": 24
        }
      ]
    },
    {
      "cell_type": "code",
      "source": [
        "name = input(\"enter name\")\n",
        "print(f\"mənim adım {name}\")"
      ],
      "metadata": {
        "id": "Uj7tZ_DdP1Qp",
        "outputId": "e6c45add-78e4-4d94-c460-15510f5b46f1",
        "colab": {
          "base_uri": "https://localhost:8080/"
        }
      },
      "execution_count": 29,
      "outputs": [
        {
          "output_type": "stream",
          "name": "stdout",
          "text": [
            "enter name Sonadır\n",
            "mənim adım  Sonadır\n"
          ]
        }
      ]
    }
  ]
}